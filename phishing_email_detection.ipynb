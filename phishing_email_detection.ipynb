{
  "cells": [
    {
      "cell_type": "code",
      "execution_count": 52,
      "metadata": {
        "id": "69S7e3gkXBC3"
      },
      "outputs": [],
      "source": [
        "import pandas as pd\n",
        "import sklearn\n",
        "from sklearn.model_selection import train_test_split\n",
        "import string\n",
        "import io\n",
        "from google.colab import files\n",
        "import gc"
      ]
    },
    {
      "cell_type": "code",
      "execution_count": 53,
      "metadata": {
        "id": "5MMXq9-5XBC7"
      },
      "outputs": [],
      "source": [
        "import nltk\n",
        "import pandas as pd\n",
        "from nltk.corpus import stopwords\n",
        "import numpy as np\n",
        "import pandas as pd\n",
        "import sklearn\n",
        "from sklearn.model_selection import train_test_split"
      ]
    },
    {
      "cell_type": "code",
      "source": [
        "from google.colab import drive\n",
        "drive.mount('/content/drive')"
      ],
      "metadata": {
        "colab": {
          "base_uri": "https://localhost:8080/"
        },
        "id": "LL7cbLB_KlLn",
        "outputId": "17150d0a-5c9f-4f7f-e201-947db537fcaa"
      },
      "execution_count": 54,
      "outputs": [
        {
          "output_type": "stream",
          "name": "stdout",
          "text": [
            "Drive already mounted at /content/drive; to attempt to forcibly remount, call drive.mount(\"/content/drive\", force_remount=True).\n"
          ]
        }
      ]
    },
    {
      "cell_type": "code",
      "execution_count": 55,
      "metadata": {
        "id": "KOZcxvExXBC9"
      },
      "outputs": [],
      "source": [
        "df_legit=pd.read_csv('drive/MyDrive/Legit_Data.csv')\n",
        "df_phish=pd.read_csv('drive/MyDrive/Phish_Data.csv')"
      ]
    },
    {
      "cell_type": "code",
      "execution_count": 56,
      "metadata": {
        "id": "m-TFKnAtXBC_"
      },
      "outputs": [],
      "source": [
        "df_legit = df_legit.append(df_phish)\n",
        "df_final=df_legit"
      ]
    },
    {
      "cell_type": "code",
      "execution_count": 57,
      "metadata": {
        "colab": {
          "base_uri": "https://localhost:8080/",
          "height": 206
        },
        "id": "A-D5uH-7XBDB",
        "outputId": "8689e56d-fb56-425e-d122-b60515375291"
      },
      "outputs": [
        {
          "output_type": "execute_result",
          "data": {
            "text/html": [
              "\n",
              "  <div id=\"df-94780db6-bf04-4a2c-9a74-77b509630800\">\n",
              "    <div class=\"colab-df-container\">\n",
              "      <div>\n",
              "<style scoped>\n",
              "    .dataframe tbody tr th:only-of-type {\n",
              "        vertical-align: middle;\n",
              "    }\n",
              "\n",
              "    .dataframe tbody tr th {\n",
              "        vertical-align: top;\n",
              "    }\n",
              "\n",
              "    .dataframe thead th {\n",
              "        text-align: right;\n",
              "    }\n",
              "</style>\n",
              "<table border=\"1\" class=\"dataframe\">\n",
              "  <thead>\n",
              "    <tr style=\"text-align: right;\">\n",
              "      <th></th>\n",
              "      <th>index</th>\n",
              "      <th>Subject</th>\n",
              "      <th>Body</th>\n",
              "      <th>Target</th>\n",
              "    </tr>\n",
              "  </thead>\n",
              "  <tbody>\n",
              "    <tr>\n",
              "      <th>4580</th>\n",
              "      <td>4580</td>\n",
              "      <td>Congratulations!You're an eBay Silver PowerSe...</td>\n",
              "      <td>X-UID: 1335\\n\\nDear\\n\\n                       ...</td>\n",
              "      <td>1.0</td>\n",
              "    </tr>\n",
              "    <tr>\n",
              "      <th>4581</th>\n",
              "      <td>4581</td>\n",
              "      <td>Regular Account Maintenance</td>\n",
              "      <td>X-UID: 13\\n\\nPayPal\\n\\n#yiv1429338740  ,#yiv14...</td>\n",
              "      <td>1.0</td>\n",
              "    </tr>\n",
              "    <tr>\n",
              "      <th>4582</th>\n",
              "      <td>4582</td>\n",
              "      <td>RE:Update our records!!</td>\n",
              "      <td>BODY, TD\\n{font-family:verdana,arial,helvetica...</td>\n",
              "      <td>1.0</td>\n",
              "    </tr>\n",
              "    <tr>\n",
              "      <th>4583</th>\n",
              "      <td>4583</td>\n",
              "      <td>Security Measures</td>\n",
              "      <td>X-UID: 1027\\n\\nPayPal\\n#obmessage .dummy {}\\n#...</td>\n",
              "      <td>1.0</td>\n",
              "    </tr>\n",
              "    <tr>\n",
              "      <th>4584</th>\n",
              "      <td>4584</td>\n",
              "      <td>***SPAM*** instructions from customer service...</td>\n",
              "      <td>X-UID: 1080\\n\\n This email sent to:\\nuser@doma...</td>\n",
              "      <td>1.0</td>\n",
              "    </tr>\n",
              "  </tbody>\n",
              "</table>\n",
              "</div>\n",
              "      <button class=\"colab-df-convert\" onclick=\"convertToInteractive('df-94780db6-bf04-4a2c-9a74-77b509630800')\"\n",
              "              title=\"Convert this dataframe to an interactive table.\"\n",
              "              style=\"display:none;\">\n",
              "        \n",
              "  <svg xmlns=\"http://www.w3.org/2000/svg\" height=\"24px\"viewBox=\"0 0 24 24\"\n",
              "       width=\"24px\">\n",
              "    <path d=\"M0 0h24v24H0V0z\" fill=\"none\"/>\n",
              "    <path d=\"M18.56 5.44l.94 2.06.94-2.06 2.06-.94-2.06-.94-.94-2.06-.94 2.06-2.06.94zm-11 1L8.5 8.5l.94-2.06 2.06-.94-2.06-.94L8.5 2.5l-.94 2.06-2.06.94zm10 10l.94 2.06.94-2.06 2.06-.94-2.06-.94-.94-2.06-.94 2.06-2.06.94z\"/><path d=\"M17.41 7.96l-1.37-1.37c-.4-.4-.92-.59-1.43-.59-.52 0-1.04.2-1.43.59L10.3 9.45l-7.72 7.72c-.78.78-.78 2.05 0 2.83L4 21.41c.39.39.9.59 1.41.59.51 0 1.02-.2 1.41-.59l7.78-7.78 2.81-2.81c.8-.78.8-2.07 0-2.86zM5.41 20L4 18.59l7.72-7.72 1.47 1.35L5.41 20z\"/>\n",
              "  </svg>\n",
              "      </button>\n",
              "      \n",
              "  <style>\n",
              "    .colab-df-container {\n",
              "      display:flex;\n",
              "      flex-wrap:wrap;\n",
              "      gap: 12px;\n",
              "    }\n",
              "\n",
              "    .colab-df-convert {\n",
              "      background-color: #E8F0FE;\n",
              "      border: none;\n",
              "      border-radius: 50%;\n",
              "      cursor: pointer;\n",
              "      display: none;\n",
              "      fill: #1967D2;\n",
              "      height: 32px;\n",
              "      padding: 0 0 0 0;\n",
              "      width: 32px;\n",
              "    }\n",
              "\n",
              "    .colab-df-convert:hover {\n",
              "      background-color: #E2EBFA;\n",
              "      box-shadow: 0px 1px 2px rgba(60, 64, 67, 0.3), 0px 1px 3px 1px rgba(60, 64, 67, 0.15);\n",
              "      fill: #174EA6;\n",
              "    }\n",
              "\n",
              "    [theme=dark] .colab-df-convert {\n",
              "      background-color: #3B4455;\n",
              "      fill: #D2E3FC;\n",
              "    }\n",
              "\n",
              "    [theme=dark] .colab-df-convert:hover {\n",
              "      background-color: #434B5C;\n",
              "      box-shadow: 0px 1px 3px 1px rgba(0, 0, 0, 0.15);\n",
              "      filter: drop-shadow(0px 1px 2px rgba(0, 0, 0, 0.3));\n",
              "      fill: #FFFFFF;\n",
              "    }\n",
              "  </style>\n",
              "\n",
              "      <script>\n",
              "        const buttonEl =\n",
              "          document.querySelector('#df-94780db6-bf04-4a2c-9a74-77b509630800 button.colab-df-convert');\n",
              "        buttonEl.style.display =\n",
              "          google.colab.kernel.accessAllowed ? 'block' : 'none';\n",
              "\n",
              "        async function convertToInteractive(key) {\n",
              "          const element = document.querySelector('#df-94780db6-bf04-4a2c-9a74-77b509630800');\n",
              "          const dataTable =\n",
              "            await google.colab.kernel.invokeFunction('convertToInteractive',\n",
              "                                                     [key], {});\n",
              "          if (!dataTable) return;\n",
              "\n",
              "          const docLinkHtml = 'Like what you see? Visit the ' +\n",
              "            '<a target=\"_blank\" href=https://colab.research.google.com/notebooks/data_table.ipynb>data table notebook</a>'\n",
              "            + ' to learn more about interactive tables.';\n",
              "          element.innerHTML = '';\n",
              "          dataTable['output_type'] = 'display_data';\n",
              "          await google.colab.output.renderOutput(dataTable, element);\n",
              "          const docLink = document.createElement('div');\n",
              "          docLink.innerHTML = docLinkHtml;\n",
              "          element.appendChild(docLink);\n",
              "        }\n",
              "      </script>\n",
              "    </div>\n",
              "  </div>\n",
              "  "
            ],
            "text/plain": [
              "      index  ... Target\n",
              "4580   4580  ...    1.0\n",
              "4581   4581  ...    1.0\n",
              "4582   4582  ...    1.0\n",
              "4583   4583  ...    1.0\n",
              "4584   4584  ...    1.0\n",
              "\n",
              "[5 rows x 4 columns]"
            ]
          },
          "metadata": {},
          "execution_count": 57
        }
      ],
      "source": [
        "df_final = df_final.loc[:, ~df_final.columns.str.contains('^Unnamed')]\n",
        "df_final.reset_index(inplace=True)\n",
        "df_final['index'] = df_final.index\n",
        "df_final.tail()"
      ]
    },
    {
      "cell_type": "code",
      "source": [
        "df_target=df_final.Target\n",
        "df_target=df_target.astype(int)\n",
        "del df_final['Target']\n",
        "df_target.head()"
      ],
      "metadata": {
        "colab": {
          "base_uri": "https://localhost:8080/"
        },
        "id": "V55EG0DOTrxX",
        "outputId": "328d7a9a-02d9-4c0a-9b54-09d27f56a32e"
      },
      "execution_count": 58,
      "outputs": [
        {
          "output_type": "execute_result",
          "data": {
            "text/plain": [
              "0    0\n",
              "1    0\n",
              "2    0\n",
              "3    0\n",
              "4    0\n",
              "Name: Target, dtype: int64"
            ]
          },
          "metadata": {},
          "execution_count": 58
        }
      ]
    },
    {
      "cell_type": "code",
      "source": [
        "df_final['Subject']= df_final['Subject'].astype(str)\n",
        "df_final['Body']= df_final['Body'].astype(str)"
      ],
      "metadata": {
        "id": "VRDKWp9yx-0T"
      },
      "execution_count": 59,
      "outputs": []
    },
    {
      "cell_type": "code",
      "source": [
        "import imblearn\n",
        "from imblearn.over_sampling import RandomOverSampler\n",
        "from imblearn.under_sampling import RandomUnderSampler"
      ],
      "metadata": {
        "id": "FdvWIvwdrIhy"
      },
      "execution_count": 60,
      "outputs": []
    },
    {
      "cell_type": "code",
      "source": [
        "oversample = RandomOverSampler(sampling_strategy=0.25)\n",
        "X_over, y_over = oversample.fit_resample(df_final, df_target)"
      ],
      "metadata": {
        "id": "qRP21EuKrtOq"
      },
      "execution_count": 61,
      "outputs": []
    },
    {
      "cell_type": "code",
      "source": [
        "y_over.value_counts()"
      ],
      "metadata": {
        "colab": {
          "base_uri": "https://localhost:8080/"
        },
        "id": "8seLmi9Ftx5-",
        "outputId": "1968b8bf-b7ab-4698-e148-830e10e95b5d"
      },
      "execution_count": 62,
      "outputs": [
        {
          "output_type": "execute_result",
          "data": {
            "text/plain": [
              "0    4082\n",
              "1    1020\n",
              "Name: Target, dtype: int64"
            ]
          },
          "metadata": {},
          "execution_count": 62
        }
      ]
    },
    {
      "cell_type": "code",
      "source": [
        "undersample = RandomUnderSampler(sampling_strategy=0.5)\n",
        "X_under, y_under = undersample.fit_resample(X_over, y_over)"
      ],
      "metadata": {
        "id": "5Ps6LlZgrIU6"
      },
      "execution_count": 63,
      "outputs": []
    },
    {
      "cell_type": "code",
      "source": [
        "y_under.value_counts()"
      ],
      "metadata": {
        "colab": {
          "base_uri": "https://localhost:8080/"
        },
        "id": "wn6Wpzaft2E0",
        "outputId": "954abc06-9192-4a1a-e45c-833e148dab0d"
      },
      "execution_count": 64,
      "outputs": [
        {
          "output_type": "execute_result",
          "data": {
            "text/plain": [
              "0    2040\n",
              "1    1020\n",
              "Name: Target, dtype: int64"
            ]
          },
          "metadata": {},
          "execution_count": 64
        }
      ]
    },
    {
      "cell_type": "code",
      "source": [
        "y_under"
      ],
      "metadata": {
        "colab": {
          "base_uri": "https://localhost:8080/"
        },
        "id": "tUGiC2bMukX4",
        "outputId": "89233477-c605-4738-f813-1ccc613a6b85"
      },
      "execution_count": 65,
      "outputs": [
        {
          "output_type": "execute_result",
          "data": {
            "text/plain": [
              "0       0\n",
              "1       0\n",
              "2       0\n",
              "3       0\n",
              "4       0\n",
              "       ..\n",
              "3055    1\n",
              "3056    1\n",
              "3057    1\n",
              "3058    1\n",
              "3059    1\n",
              "Name: Target, Length: 3060, dtype: int64"
            ]
          },
          "metadata": {},
          "execution_count": 65
        }
      ]
    },
    {
      "cell_type": "code",
      "source": [
        "del X_under['index']\n",
        "X_under.tail()"
      ],
      "metadata": {
        "colab": {
          "base_uri": "https://localhost:8080/",
          "height": 206
        },
        "id": "lW92zWR7ufPP",
        "outputId": "bedbdc19-cf5d-4ab8-a1d3-b505dfc58fa5"
      },
      "execution_count": 66,
      "outputs": [
        {
          "output_type": "execute_result",
          "data": {
            "text/html": [
              "\n",
              "  <div id=\"df-818fb556-3add-4e56-9b6e-d207fa64ad22\">\n",
              "    <div class=\"colab-df-container\">\n",
              "      <div>\n",
              "<style scoped>\n",
              "    .dataframe tbody tr th:only-of-type {\n",
              "        vertical-align: middle;\n",
              "    }\n",
              "\n",
              "    .dataframe tbody tr th {\n",
              "        vertical-align: top;\n",
              "    }\n",
              "\n",
              "    .dataframe thead th {\n",
              "        text-align: right;\n",
              "    }\n",
              "</style>\n",
              "<table border=\"1\" class=\"dataframe\">\n",
              "  <thead>\n",
              "    <tr style=\"text-align: right;\">\n",
              "      <th></th>\n",
              "      <th>Subject</th>\n",
              "      <th>Body</th>\n",
              "    </tr>\n",
              "  </thead>\n",
              "  <tbody>\n",
              "    <tr>\n",
              "      <th>3055</th>\n",
              "      <td>JOB OFFER!!!!!!!!!!!!!!!!!!!!!!</td>\n",
              "      <td>X-UID: 32\\n\\nI am writing you from ukcorporato...</td>\n",
              "    </tr>\n",
              "    <tr>\n",
              "      <th>3056</th>\n",
              "      <td>Notification: Update Your eBay Profile</td>\n",
              "      <td>X-UID: 1114\\n\\nYour account will be suspended ...</td>\n",
              "    </tr>\n",
              "    <tr>\n",
              "      <th>3057</th>\n",
              "      <td>PayPal - Please Restore Your Account</td>\n",
              "      <td>X-UID: 125\\n\\nDear valued Citizens=AE Bank mem...</td>\n",
              "    </tr>\n",
              "    <tr>\n",
              "      <th>3058</th>\n",
              "      <td>collection issue,</td>\n",
              "      <td>X-UID: 88\\n\\nDear \\n            User, \\n\\nWe n...</td>\n",
              "    </tr>\n",
              "    <tr>\n",
              "      <th>3059</th>\n",
              "      <td>Notification From: \"support\"&lt;user@domain&gt;</td>\n",
              "      <td>Status: O\\nContent-Length: 781\\nLines: 16\\n\\nY...</td>\n",
              "    </tr>\n",
              "  </tbody>\n",
              "</table>\n",
              "</div>\n",
              "      <button class=\"colab-df-convert\" onclick=\"convertToInteractive('df-818fb556-3add-4e56-9b6e-d207fa64ad22')\"\n",
              "              title=\"Convert this dataframe to an interactive table.\"\n",
              "              style=\"display:none;\">\n",
              "        \n",
              "  <svg xmlns=\"http://www.w3.org/2000/svg\" height=\"24px\"viewBox=\"0 0 24 24\"\n",
              "       width=\"24px\">\n",
              "    <path d=\"M0 0h24v24H0V0z\" fill=\"none\"/>\n",
              "    <path d=\"M18.56 5.44l.94 2.06.94-2.06 2.06-.94-2.06-.94-.94-2.06-.94 2.06-2.06.94zm-11 1L8.5 8.5l.94-2.06 2.06-.94-2.06-.94L8.5 2.5l-.94 2.06-2.06.94zm10 10l.94 2.06.94-2.06 2.06-.94-2.06-.94-.94-2.06-.94 2.06-2.06.94z\"/><path d=\"M17.41 7.96l-1.37-1.37c-.4-.4-.92-.59-1.43-.59-.52 0-1.04.2-1.43.59L10.3 9.45l-7.72 7.72c-.78.78-.78 2.05 0 2.83L4 21.41c.39.39.9.59 1.41.59.51 0 1.02-.2 1.41-.59l7.78-7.78 2.81-2.81c.8-.78.8-2.07 0-2.86zM5.41 20L4 18.59l7.72-7.72 1.47 1.35L5.41 20z\"/>\n",
              "  </svg>\n",
              "      </button>\n",
              "      \n",
              "  <style>\n",
              "    .colab-df-container {\n",
              "      display:flex;\n",
              "      flex-wrap:wrap;\n",
              "      gap: 12px;\n",
              "    }\n",
              "\n",
              "    .colab-df-convert {\n",
              "      background-color: #E8F0FE;\n",
              "      border: none;\n",
              "      border-radius: 50%;\n",
              "      cursor: pointer;\n",
              "      display: none;\n",
              "      fill: #1967D2;\n",
              "      height: 32px;\n",
              "      padding: 0 0 0 0;\n",
              "      width: 32px;\n",
              "    }\n",
              "\n",
              "    .colab-df-convert:hover {\n",
              "      background-color: #E2EBFA;\n",
              "      box-shadow: 0px 1px 2px rgba(60, 64, 67, 0.3), 0px 1px 3px 1px rgba(60, 64, 67, 0.15);\n",
              "      fill: #174EA6;\n",
              "    }\n",
              "\n",
              "    [theme=dark] .colab-df-convert {\n",
              "      background-color: #3B4455;\n",
              "      fill: #D2E3FC;\n",
              "    }\n",
              "\n",
              "    [theme=dark] .colab-df-convert:hover {\n",
              "      background-color: #434B5C;\n",
              "      box-shadow: 0px 1px 3px 1px rgba(0, 0, 0, 0.15);\n",
              "      filter: drop-shadow(0px 1px 2px rgba(0, 0, 0, 0.3));\n",
              "      fill: #FFFFFF;\n",
              "    }\n",
              "  </style>\n",
              "\n",
              "      <script>\n",
              "        const buttonEl =\n",
              "          document.querySelector('#df-818fb556-3add-4e56-9b6e-d207fa64ad22 button.colab-df-convert');\n",
              "        buttonEl.style.display =\n",
              "          google.colab.kernel.accessAllowed ? 'block' : 'none';\n",
              "\n",
              "        async function convertToInteractive(key) {\n",
              "          const element = document.querySelector('#df-818fb556-3add-4e56-9b6e-d207fa64ad22');\n",
              "          const dataTable =\n",
              "            await google.colab.kernel.invokeFunction('convertToInteractive',\n",
              "                                                     [key], {});\n",
              "          if (!dataTable) return;\n",
              "\n",
              "          const docLinkHtml = 'Like what you see? Visit the ' +\n",
              "            '<a target=\"_blank\" href=https://colab.research.google.com/notebooks/data_table.ipynb>data table notebook</a>'\n",
              "            + ' to learn more about interactive tables.';\n",
              "          element.innerHTML = '';\n",
              "          dataTable['output_type'] = 'display_data';\n",
              "          await google.colab.output.renderOutput(dataTable, element);\n",
              "          const docLink = document.createElement('div');\n",
              "          docLink.innerHTML = docLinkHtml;\n",
              "          element.appendChild(docLink);\n",
              "        }\n",
              "      </script>\n",
              "    </div>\n",
              "  </div>\n",
              "  "
            ],
            "text/plain": [
              "                                         Subject                                               Body\n",
              "3055             JOB OFFER!!!!!!!!!!!!!!!!!!!!!!  X-UID: 32\\n\\nI am writing you from ukcorporato...\n",
              "3056      Notification: Update Your eBay Profile  X-UID: 1114\\n\\nYour account will be suspended ...\n",
              "3057        PayPal - Please Restore Your Account  X-UID: 125\\n\\nDear valued Citizens=AE Bank mem...\n",
              "3058                           collection issue,  X-UID: 88\\n\\nDear \\n            User, \\n\\nWe n...\n",
              "3059   Notification From: \"support\"<user@domain>  Status: O\\nContent-Length: 781\\nLines: 16\\n\\nY..."
            ]
          },
          "metadata": {},
          "execution_count": 66
        }
      ]
    },
    {
      "cell_type": "code",
      "source": [
        "import nltk\n",
        "nltk.download('punkt')"
      ],
      "metadata": {
        "colab": {
          "base_uri": "https://localhost:8080/"
        },
        "id": "Hvmz9ywApJQQ",
        "outputId": "e7a41f69-6d70-47a8-8222-6c5bf488d824"
      },
      "execution_count": 67,
      "outputs": [
        {
          "output_type": "stream",
          "name": "stdout",
          "text": [
            "[nltk_data] Downloading package punkt to /root/nltk_data...\n",
            "[nltk_data]   Package punkt is already up-to-date!\n"
          ]
        },
        {
          "output_type": "execute_result",
          "data": {
            "text/plain": [
              "True"
            ]
          },
          "metadata": {},
          "execution_count": 67
        }
      ]
    },
    {
      "cell_type": "code",
      "source": [
        "from tqdm import tqdm"
      ],
      "metadata": {
        "id": "W19Zbuz4bjRW"
      },
      "execution_count": 68,
      "outputs": []
    },
    {
      "cell_type": "code",
      "source": [
        "#Loading Glove Embedding\n",
        "embeddings_index = {}\n",
        "f = open('drive/MyDrive/glove.6B.50d.txt', encoding='utf8')\n",
        "for line in tqdm(f):\n",
        "    value = line.split()\n",
        "    word = value[0]\n",
        "    coef = np.asarray(value[1:], dtype='float32')\n",
        "    embeddings_index[word] = coef\n",
        "f.close()\n",
        "print(len(embeddings_index))"
      ],
      "metadata": {
        "colab": {
          "base_uri": "https://localhost:8080/"
        },
        "id": "n20LUX-vyH7g",
        "outputId": "19740ddd-f208-4fd3-d8ed-8a7844a7ace3"
      },
      "execution_count": 69,
      "outputs": [
        {
          "output_type": "stream",
          "name": "stderr",
          "text": [
            "400000it [00:06, 65884.73it/s]"
          ]
        },
        {
          "output_type": "stream",
          "name": "stdout",
          "text": [
            "400000\n"
          ]
        },
        {
          "output_type": "stream",
          "name": "stderr",
          "text": [
            "\n"
          ]
        }
      ]
    },
    {
      "cell_type": "code",
      "source": [
        "VOCABULARY_SIZE = 2000\n",
        "MAX_LENGTH_BODY = 60\n",
        "MAX_LENGTH_SUBJECT = 20"
      ],
      "metadata": {
        "id": "bwDaiYNcyVSY"
      },
      "execution_count": 70,
      "outputs": []
    },
    {
      "cell_type": "code",
      "source": [
        "train_x, test_x, train_y, test_y = train_test_split(X_under, y_under, test_size=0.2, random_state=0, stratify=y_under)"
      ],
      "metadata": {
        "id": "vAodu-rlyY4w"
      },
      "execution_count": 71,
      "outputs": []
    },
    {
      "cell_type": "code",
      "source": [
        "print(len(test_x))"
      ],
      "metadata": {
        "colab": {
          "base_uri": "https://localhost:8080/"
        },
        "id": "sw1k3v7WTSzo",
        "outputId": "12f85e5d-73c4-4a48-cd5e-f4e1a7c643f8"
      },
      "execution_count": 72,
      "outputs": [
        {
          "output_type": "stream",
          "name": "stdout",
          "text": [
            "612\n"
          ]
        }
      ]
    },
    {
      "cell_type": "code",
      "source": [
        "from keras.preprocessing.text import Tokenizer\n",
        "from keras.preprocessing import sequence"
      ],
      "metadata": {
        "id": "35mGWF6yysfM"
      },
      "execution_count": 73,
      "outputs": []
    },
    {
      "cell_type": "code",
      "source": [
        "# tokenizing and padding email body\n",
        "tokenizer_body = Tokenizer(num_words=VOCABULARY_SIZE)\n",
        "tokenizer_body.fit_on_texts(list(train_x.Body) + list(test_x.Body))\n",
        "\n",
        "xtrain_body_sequence = tokenizer_body.texts_to_sequences(train_x.Body)\n",
        "xtest_body_sequence = tokenizer_body.texts_to_sequences(test_x.Body)\n",
        "\n",
        "xtrain_body_padding = sequence.pad_sequences(xtrain_body_sequence, maxlen=MAX_LENGTH_BODY)\n",
        "xtest_body_padding = sequence.pad_sequences(xtest_body_sequence, maxlen=MAX_LENGTH_BODY)\n",
        "word_index_body = tokenizer_body.word_index\n",
        "\n",
        "embedding_matrix_body = np.zeros((len(word_index_body) + 1, 50))\n",
        "for word, i in tqdm(word_index_body.items()):\n",
        "    embedding_vector = embeddings_index.get(word)\n",
        "    if embedding_vector is not None:\n",
        "        embedding_matrix_body[i] = embedding_vector"
      ],
      "metadata": {
        "colab": {
          "base_uri": "https://localhost:8080/"
        },
        "id": "5MsIoMaNIhTc",
        "outputId": "7104f4e1-c99b-4806-ee13-5d4b4e9ed092"
      },
      "execution_count": 74,
      "outputs": [
        {
          "output_type": "stream",
          "name": "stderr",
          "text": [
            "100%|██████████| 48607/48607 [00:00<00:00, 738920.26it/s]\n"
          ]
        }
      ]
    },
    {
      "cell_type": "code",
      "source": [
        "# tokenizing and padding email subject\n",
        "tokenizer_Subject = Tokenizer(num_words=VOCABULARY_SIZE)\n",
        "tokenizer_Subject.fit_on_texts(list(train_x.Subject) + list(test_x.Subject))\n",
        "\n",
        "xtrain_Subject_sequence = tokenizer_Subject.texts_to_sequences(train_x.Subject)\n",
        "xtest_Subject_sequence = tokenizer_Subject.texts_to_sequences(test_x.Subject)\n",
        "\n",
        "xtrain_Subject_padding = sequence.pad_sequences(xtrain_Subject_sequence, maxlen=MAX_LENGTH_SUBJECT)\n",
        "xtest_Subject_padding = sequence.pad_sequences(xtest_Subject_sequence, maxlen=MAX_LENGTH_SUBJECT)\n",
        "word_index_Subject = tokenizer_Subject.word_index\n",
        "\n",
        "embedding_matrix_Subject = np.zeros((len(word_index_Subject) + 1, 50))\n",
        "for word, i in tqdm(word_index_Subject.items()):\n",
        "    embedding_vector = embeddings_index.get(word)\n",
        "    if embedding_vector is not None:\n",
        "        embedding_matrix_Subject[i] = embedding_vector"
      ],
      "metadata": {
        "colab": {
          "base_uri": "https://localhost:8080/"
        },
        "id": "g2ZnTC05K1hc",
        "outputId": "ff0fe0d6-95d3-48f8-8f9e-bc698ee52252"
      },
      "execution_count": 75,
      "outputs": [
        {
          "output_type": "stream",
          "name": "stderr",
          "text": [
            "100%|██████████| 3151/3151 [00:00<00:00, 333096.05it/s]\n"
          ]
        }
      ]
    },
    {
      "cell_type": "code",
      "source": [
        "from keras.layers import GlobalMaxPooling1D, Conv1D, MaxPooling1D, Flatten, Bidirectional, SpatialDropout1D\n",
        "from keras.layers.core import Dense, Activation, Dropout"
      ],
      "metadata": {
        "id": "wN3gkpkBzFlT"
      },
      "execution_count": 76,
      "outputs": []
    },
    {
      "cell_type": "code",
      "source": [
        "from keras.models import Sequential"
      ],
      "metadata": {
        "id": "u9fGYFclcEFv"
      },
      "execution_count": 77,
      "outputs": []
    },
    {
      "cell_type": "code",
      "source": [
        "from keras.layers.embeddings import Embedding\n",
        "import keras"
      ],
      "metadata": {
        "id": "aBnJzjkmcJ4a"
      },
      "execution_count": 78,
      "outputs": []
    },
    {
      "cell_type": "code",
      "source": [
        "#import packages\n",
        "from time import time\n",
        "from collections import Counter\n",
        "import pandas as pd\n",
        "import numpy as np\n",
        "import seaborn as sns\n",
        "import matplotlib.pyplot as plt\n",
        "from imblearn.over_sampling import SMOTE, KMeansSMOTE\n",
        "import nltk\n",
        "from nltk.corpus import stopwords\n",
        "from nltk.stem import WordNetLemmatizer\n",
        "from sklearn import preprocessing\n",
        "from sklearn.feature_extraction.text import TfidfVectorizer\n",
        "from sklearn.model_selection import train_test_split\n",
        "from sklearn.naive_bayes import BernoulliNB\n",
        "from sklearn.svm import LinearSVC\n",
        "from sklearn.svm import SVC\n",
        "from sklearn.metrics import precision_score\n",
        "from sklearn.ensemble import RandomForestClassifier\n",
        "from sklearn.metrics import classification_report\n",
        "from nltk.tokenize import word_tokenize\n",
        "from nltk.stem import WordNetLemmatizer\n",
        "from nltk.stem import PorterStemmer\n",
        "from tqdm import tqdm\n",
        "import tensorflow as tf\n",
        "from keras.models import Sequential\n",
        "from keras.layers.recurrent import LSTM, GRU\n",
        "from keras.layers.core import Dense, Activation, Dropout\n",
        "from keras.layers.embeddings import Embedding\n",
        "# from keras.layers.normalization import BatchNormalization\n",
        "from tensorflow.keras.layers import (\n",
        "    BatchNormalization, SeparableConv2D, MaxPooling2D, Activation, Flatten, Dropout, Dense\n",
        ")\n",
        "from keras.utils import np_utils\n",
        "from keras.layers import GlobalMaxPooling1D, Conv1D, MaxPooling1D, Flatten, Bidirectional, SpatialDropout1D\n",
        "from keras.preprocessing import sequence\n",
        "from keras.preprocessing.text import Tokenizer\n",
        "from keras.callbacks import EarlyStopping\n",
        "'''stop_words = stopwords.words('english')'''\n",
        "from sklearn.metrics import precision_recall_fscore_support"
      ],
      "metadata": {
        "id": "Me9YiGGLcNde"
      },
      "execution_count": 79,
      "outputs": []
    },
    {
      "cell_type": "code",
      "source": [
        "from keras.layers import Conv2D, MaxPooling2D, Input, Dense, Flatten, concatenate\n",
        "from keras.models import Model"
      ],
      "metadata": {
        "id": "5j_dR0tRNCSr"
      },
      "execution_count": 80,
      "outputs": []
    },
    {
      "cell_type": "code",
      "source": [
        "#LSTM\n",
        "max_features=VOCABULARY_SIZE"
      ],
      "metadata": {
        "id": "57oqnTq3x2GU"
      },
      "execution_count": 81,
      "outputs": []
    },
    {
      "cell_type": "code",
      "source": [
        "xtrain_body_padding.shape"
      ],
      "metadata": {
        "colab": {
          "base_uri": "https://localhost:8080/"
        },
        "id": "eTF_rgQVNK6E",
        "outputId": "2f3edd4a-3057-41ca-d001-92ed451d44f1"
      },
      "execution_count": 82,
      "outputs": [
        {
          "output_type": "execute_result",
          "data": {
            "text/plain": [
              "(2448, 60)"
            ]
          },
          "metadata": {},
          "execution_count": 82
        }
      ]
    },
    {
      "cell_type": "code",
      "source": [
        "# creating the modelling branch for email body\n",
        "body_input = Input(shape=(60,))\n",
        "\n",
        "b1=Embedding(len(word_index_body) + 1,50,weights=[embedding_matrix_body],input_length=MAX_LENGTH_BODY,trainable=False)(body_input)\n",
        "b2=SpatialDropout1D(0.3)(b1)\n",
        "b3=Bidirectional(LSTM(100, dropout=0.3, recurrent_dropout=0.3))(b2)\n",
        "b4=Dense(1024, activation='relu')(b3)\n",
        "b5=Dropout(0.4)(b4)\n",
        "b6=Dense(1024, activation='relu')(b5)\n",
        "b7=Dropout(0.4)(b6)"
      ],
      "metadata": {
        "id": "3w_mwm3OLi-4"
      },
      "execution_count": 83,
      "outputs": []
    },
    {
      "cell_type": "code",
      "source": [
        "# creating the modelling branch for email Subject\n",
        "Subject_input = Input(shape=(20,))\n",
        "\n",
        "s1=Embedding(len(word_index_Subject) + 1,50,weights=[embedding_matrix_Subject],input_length=MAX_LENGTH_SUBJECT,trainable=False)(Subject_input)\n",
        "s2=SpatialDropout1D(0.3)(s1)\n",
        "s3=Bidirectional(LSTM(100, dropout=0.3, recurrent_dropout=0.3))(s2)\n",
        "s4=Dense(1024, activation='relu')(s3)\n",
        "s5=Dropout(0.4)(b4)\n",
        "s6=Dense(1024, activation='relu')(s5)\n",
        "s7=Dropout(0.4)(s6)"
      ],
      "metadata": {
        "id": "Gjo-4VS3OLRi"
      },
      "execution_count": 84,
      "outputs": []
    },
    {
      "cell_type": "code",
      "source": [
        "# concatenating outputs from subject and body\n",
        "concatenated = keras.layers.Add()([b7, s7])\n",
        "c1=Dense(1024, activation='relu')(concatenated)\n",
        "c2=Dropout(0.4)(c1)\n",
        "c3=Dense(1)(c2)\n",
        "out=Activation('sigmoid')(c3)"
      ],
      "metadata": {
        "id": "UydIGUmEPWR_"
      },
      "execution_count": 85,
      "outputs": []
    },
    {
      "cell_type": "code",
      "source": [
        "# compiling the model\n",
        "model = Model([body_input, Subject_input], out)\n",
        "print(model.summary())\n",
        "model.compile(loss='binary_crossentropy', optimizer='adam', metrics=[keras.metrics.AUC()])"
      ],
      "metadata": {
        "colab": {
          "base_uri": "https://localhost:8080/"
        },
        "id": "AEIIJ8rgRseT",
        "outputId": "d4e11714-9b92-40da-f0d8-d623bf83c89d"
      },
      "execution_count": 86,
      "outputs": [
        {
          "output_type": "stream",
          "name": "stdout",
          "text": [
            "Model: \"model_1\"\n",
            "__________________________________________________________________________________________________\n",
            " Layer (type)                   Output Shape         Param #     Connected to                     \n",
            "==================================================================================================\n",
            " input_3 (InputLayer)           [(None, 60)]         0           []                               \n",
            "                                                                                                  \n",
            " embedding_2 (Embedding)        (None, 60, 50)       2430400     ['input_3[0][0]']                \n",
            "                                                                                                  \n",
            " spatial_dropout1d_2 (SpatialDr  (None, 60, 50)      0           ['embedding_2[0][0]']            \n",
            " opout1D)                                                                                         \n",
            "                                                                                                  \n",
            " bidirectional_2 (Bidirectional  (None, 200)         120800      ['spatial_dropout1d_2[0][0]']    \n",
            " )                                                                                                \n",
            "                                                                                                  \n",
            " dense_6 (Dense)                (None, 1024)         205824      ['bidirectional_2[0][0]']        \n",
            "                                                                                                  \n",
            " dropout_5 (Dropout)            (None, 1024)         0           ['dense_6[0][0]']                \n",
            "                                                                                                  \n",
            " dropout_7 (Dropout)            (None, 1024)         0           ['dense_6[0][0]']                \n",
            "                                                                                                  \n",
            " dense_7 (Dense)                (None, 1024)         1049600     ['dropout_5[0][0]']              \n",
            "                                                                                                  \n",
            " dense_9 (Dense)                (None, 1024)         1049600     ['dropout_7[0][0]']              \n",
            "                                                                                                  \n",
            " dropout_6 (Dropout)            (None, 1024)         0           ['dense_7[0][0]']                \n",
            "                                                                                                  \n",
            " dropout_8 (Dropout)            (None, 1024)         0           ['dense_9[0][0]']                \n",
            "                                                                                                  \n",
            " add_1 (Add)                    (None, 1024)         0           ['dropout_6[0][0]',              \n",
            "                                                                  'dropout_8[0][0]']              \n",
            "                                                                                                  \n",
            " dense_10 (Dense)               (None, 1024)         1049600     ['add_1[0][0]']                  \n",
            "                                                                                                  \n",
            " dropout_9 (Dropout)            (None, 1024)         0           ['dense_10[0][0]']               \n",
            "                                                                                                  \n",
            " dense_11 (Dense)               (None, 1)            1025        ['dropout_9[0][0]']              \n",
            "                                                                                                  \n",
            " input_4 (InputLayer)           [(None, 20)]         0           []                               \n",
            "                                                                                                  \n",
            " activation_1 (Activation)      (None, 1)            0           ['dense_11[0][0]']               \n",
            "                                                                                                  \n",
            "==================================================================================================\n",
            "Total params: 5,906,849\n",
            "Trainable params: 3,476,449\n",
            "Non-trainable params: 2,430,400\n",
            "__________________________________________________________________________________________________\n",
            "None\n"
          ]
        }
      ]
    },
    {
      "cell_type": "code",
      "source": [
        "early_stop = EarlyStopping(monitor='val_auc_1', mode='max', verbose=1, patience=3)\n",
        "history = model.fit([xtrain_body_padding,xtrain_Subject_padding], train_y, batch_size=64, epochs=5, verbose=1, validation_data=([xtest_body_padding,xtest_Subject_padding],test_y),callbacks=[early_stop])"
      ],
      "metadata": {
        "colab": {
          "base_uri": "https://localhost:8080/"
        },
        "id": "wdAOf3enSJM6",
        "outputId": "07726b85-b87a-4aac-926d-931f21332c7e"
      },
      "execution_count": 87,
      "outputs": [
        {
          "output_type": "stream",
          "name": "stdout",
          "text": [
            "Epoch 1/5\n",
            "39/39 [==============================] - 30s 614ms/step - loss: 0.4599 - auc_1: 0.8407 - val_loss: 0.2561 - val_auc_1: 0.9570\n",
            "Epoch 2/5\n",
            "39/39 [==============================] - 23s 588ms/step - loss: 0.2963 - auc_1: 0.9379 - val_loss: 0.2044 - val_auc_1: 0.9703\n",
            "Epoch 3/5\n",
            "39/39 [==============================] - 23s 592ms/step - loss: 0.2251 - auc_1: 0.9624 - val_loss: 0.1895 - val_auc_1: 0.9798\n",
            "Epoch 4/5\n",
            "39/39 [==============================] - 23s 592ms/step - loss: 0.1961 - auc_1: 0.9715 - val_loss: 0.1922 - val_auc_1: 0.9781\n",
            "Epoch 5/5\n",
            "39/39 [==============================] - 23s 587ms/step - loss: 0.1873 - auc_1: 0.9742 - val_loss: 0.1780 - val_auc_1: 0.9850\n"
          ]
        }
      ]
    },
    {
      "cell_type": "code",
      "execution_count": 88,
      "metadata": {
        "id": "LVN02zM-XBDO"
      },
      "outputs": [],
      "source": [
        "df_test=pd.read_csv('drive/MyDrive/Test Data.csv')"
      ]
    },
    {
      "cell_type": "code",
      "source": [
        "df_test.tail()"
      ],
      "metadata": {
        "colab": {
          "base_uri": "https://localhost:8080/",
          "height": 206
        },
        "id": "UyDgIA3maAXt",
        "outputId": "97bb1aec-58fd-458f-afb8-b878f271e30a"
      },
      "execution_count": 89,
      "outputs": [
        {
          "output_type": "execute_result",
          "data": {
            "text/html": [
              "\n",
              "  <div id=\"df-9efcd6f4-572e-4ddc-9bfc-70eef1862207\">\n",
              "    <div class=\"colab-df-container\">\n",
              "      <div>\n",
              "<style scoped>\n",
              "    .dataframe tbody tr th:only-of-type {\n",
              "        vertical-align: middle;\n",
              "    }\n",
              "\n",
              "    .dataframe tbody tr th {\n",
              "        vertical-align: top;\n",
              "    }\n",
              "\n",
              "    .dataframe thead th {\n",
              "        text-align: right;\n",
              "    }\n",
              "</style>\n",
              "<table border=\"1\" class=\"dataframe\">\n",
              "  <thead>\n",
              "    <tr style=\"text-align: right;\">\n",
              "      <th></th>\n",
              "      <th>Subject</th>\n",
              "      <th>Body</th>\n",
              "    </tr>\n",
              "  </thead>\n",
              "  <tbody>\n",
              "    <tr>\n",
              "      <th>4893</th>\n",
              "      <td>RE: Highlights noname - let's catch up next week</td>\n",
              "      <td>Haha- no worries.  I made some tweaks around t...</td>\n",
              "    </tr>\n",
              "    <tr>\n",
              "      <th>4894</th>\n",
              "      <td>Declined: Strategic  Morning Huddle</td>\n",
              "      <td>Out on PTO</td>\n",
              "    </tr>\n",
              "    <tr>\n",
              "      <th>4895</th>\n",
              "      <td>RE: SV Initiative Page Approval</td>\n",
              "      <td>This makes sense to me.         From: Diane M ...</td>\n",
              "    </tr>\n",
              "    <tr>\n",
              "      <th>4896</th>\n",
              "      <td>FW: [EXT]Re: ccac sales and walk NDA</td>\n",
              "      <td>Some ideas for use cases for 8/9 meeting ...</td>\n",
              "    </tr>\n",
              "    <tr>\n",
              "      <th>4897</th>\n",
              "      <td>RE: [EXT]Re: [EXT]Canceled: ccac sales: noname...</td>\n",
              "      <td>Perfect. Thank you!          From: Mohdhafi Ag...</td>\n",
              "    </tr>\n",
              "  </tbody>\n",
              "</table>\n",
              "</div>\n",
              "      <button class=\"colab-df-convert\" onclick=\"convertToInteractive('df-9efcd6f4-572e-4ddc-9bfc-70eef1862207')\"\n",
              "              title=\"Convert this dataframe to an interactive table.\"\n",
              "              style=\"display:none;\">\n",
              "        \n",
              "  <svg xmlns=\"http://www.w3.org/2000/svg\" height=\"24px\"viewBox=\"0 0 24 24\"\n",
              "       width=\"24px\">\n",
              "    <path d=\"M0 0h24v24H0V0z\" fill=\"none\"/>\n",
              "    <path d=\"M18.56 5.44l.94 2.06.94-2.06 2.06-.94-2.06-.94-.94-2.06-.94 2.06-2.06.94zm-11 1L8.5 8.5l.94-2.06 2.06-.94-2.06-.94L8.5 2.5l-.94 2.06-2.06.94zm10 10l.94 2.06.94-2.06 2.06-.94-2.06-.94-.94-2.06-.94 2.06-2.06.94z\"/><path d=\"M17.41 7.96l-1.37-1.37c-.4-.4-.92-.59-1.43-.59-.52 0-1.04.2-1.43.59L10.3 9.45l-7.72 7.72c-.78.78-.78 2.05 0 2.83L4 21.41c.39.39.9.59 1.41.59.51 0 1.02-.2 1.41-.59l7.78-7.78 2.81-2.81c.8-.78.8-2.07 0-2.86zM5.41 20L4 18.59l7.72-7.72 1.47 1.35L5.41 20z\"/>\n",
              "  </svg>\n",
              "      </button>\n",
              "      \n",
              "  <style>\n",
              "    .colab-df-container {\n",
              "      display:flex;\n",
              "      flex-wrap:wrap;\n",
              "      gap: 12px;\n",
              "    }\n",
              "\n",
              "    .colab-df-convert {\n",
              "      background-color: #E8F0FE;\n",
              "      border: none;\n",
              "      border-radius: 50%;\n",
              "      cursor: pointer;\n",
              "      display: none;\n",
              "      fill: #1967D2;\n",
              "      height: 32px;\n",
              "      padding: 0 0 0 0;\n",
              "      width: 32px;\n",
              "    }\n",
              "\n",
              "    .colab-df-convert:hover {\n",
              "      background-color: #E2EBFA;\n",
              "      box-shadow: 0px 1px 2px rgba(60, 64, 67, 0.3), 0px 1px 3px 1px rgba(60, 64, 67, 0.15);\n",
              "      fill: #174EA6;\n",
              "    }\n",
              "\n",
              "    [theme=dark] .colab-df-convert {\n",
              "      background-color: #3B4455;\n",
              "      fill: #D2E3FC;\n",
              "    }\n",
              "\n",
              "    [theme=dark] .colab-df-convert:hover {\n",
              "      background-color: #434B5C;\n",
              "      box-shadow: 0px 1px 3px 1px rgba(0, 0, 0, 0.15);\n",
              "      filter: drop-shadow(0px 1px 2px rgba(0, 0, 0, 0.3));\n",
              "      fill: #FFFFFF;\n",
              "    }\n",
              "  </style>\n",
              "\n",
              "      <script>\n",
              "        const buttonEl =\n",
              "          document.querySelector('#df-9efcd6f4-572e-4ddc-9bfc-70eef1862207 button.colab-df-convert');\n",
              "        buttonEl.style.display =\n",
              "          google.colab.kernel.accessAllowed ? 'block' : 'none';\n",
              "\n",
              "        async function convertToInteractive(key) {\n",
              "          const element = document.querySelector('#df-9efcd6f4-572e-4ddc-9bfc-70eef1862207');\n",
              "          const dataTable =\n",
              "            await google.colab.kernel.invokeFunction('convertToInteractive',\n",
              "                                                     [key], {});\n",
              "          if (!dataTable) return;\n",
              "\n",
              "          const docLinkHtml = 'Like what you see? Visit the ' +\n",
              "            '<a target=\"_blank\" href=https://colab.research.google.com/notebooks/data_table.ipynb>data table notebook</a>'\n",
              "            + ' to learn more about interactive tables.';\n",
              "          element.innerHTML = '';\n",
              "          dataTable['output_type'] = 'display_data';\n",
              "          await google.colab.output.renderOutput(dataTable, element);\n",
              "          const docLink = document.createElement('div');\n",
              "          docLink.innerHTML = docLinkHtml;\n",
              "          element.appendChild(docLink);\n",
              "        }\n",
              "      </script>\n",
              "    </div>\n",
              "  </div>\n",
              "  "
            ],
            "text/plain": [
              "                                                Subject                                               Body\n",
              "4893   RE: Highlights noname - let's catch up next week  Haha- no worries.  I made some tweaks around t...\n",
              "4894                Declined: Strategic  Morning Huddle                                Out on PTO         \n",
              "4895                    RE: SV Initiative Page Approval  This makes sense to me.         From: Diane M ...\n",
              "4896               FW: [EXT]Re: ccac sales and walk NDA       Some ideas for use cases for 8/9 meeting ...\n",
              "4897  RE: [EXT]Re: [EXT]Canceled: ccac sales: noname...  Perfect. Thank you!          From: Mohdhafi Ag..."
            ]
          },
          "metadata": {},
          "execution_count": 89
        }
      ]
    },
    {
      "cell_type": "code",
      "source": [
        "df_test['Subject']= df_test['Subject'].astype(str)\n",
        "df_test['Body']= df_test['Body'].astype(str)"
      ],
      "metadata": {
        "id": "E9eaGDHsazBm"
      },
      "execution_count": 90,
      "outputs": []
    },
    {
      "cell_type": "code",
      "source": [
        "# tokenizing and padding pred emails body\n",
        "xpred_body_sequence = tokenizer_body.texts_to_sequences(df_test.Body)\n",
        "xpred_body_padding = sequence.pad_sequences(xpred_body_sequence, maxlen=MAX_LENGTH_BODY)\n",
        "\n",
        "# tokenizing and padding pred emails subject\n",
        "xpred_Subject_sequence = tokenizer_Subject.texts_to_sequences(df_test.Subject)\n",
        "xpred_Subject_padding = sequence.pad_sequences(xpred_Subject_sequence, maxlen=MAX_LENGTH_SUBJECT)"
      ],
      "metadata": {
        "id": "FxmCFChta_KM"
      },
      "execution_count": 91,
      "outputs": []
    },
    {
      "cell_type": "code",
      "source": [
        "predictions=model.predict([xpred_body_padding,xpred_Subject_padding])"
      ],
      "metadata": {
        "id": "NoEYIWZScA1t"
      },
      "execution_count": 92,
      "outputs": []
    },
    {
      "cell_type": "code",
      "source": [
        "predictions"
      ],
      "metadata": {
        "colab": {
          "base_uri": "https://localhost:8080/"
        },
        "id": "v3qL1gO2dUf6",
        "outputId": "61f5e794-15e4-46fc-ac41-e89601853b56"
      },
      "execution_count": 93,
      "outputs": [
        {
          "output_type": "execute_result",
          "data": {
            "text/plain": [
              "array([[0.0558733 ],\n",
              "       [0.0170344 ],\n",
              "       [0.3159189 ],\n",
              "       ...,\n",
              "       [0.44541258],\n",
              "       [0.04784732],\n",
              "       [0.06915626]], dtype=float32)"
            ]
          },
          "metadata": {},
          "execution_count": 93
        }
      ]
    },
    {
      "cell_type": "code",
      "source": [
        "pred_df=pd.DataFrame(predictions)\n",
        "pred_df.tail()"
      ],
      "metadata": {
        "colab": {
          "base_uri": "https://localhost:8080/",
          "height": 206
        },
        "id": "MO-qrwpDde1_",
        "outputId": "6db36de1-01b5-46d9-81ac-8c8fcae3f541"
      },
      "execution_count": 94,
      "outputs": [
        {
          "output_type": "execute_result",
          "data": {
            "text/html": [
              "\n",
              "  <div id=\"df-a87361b5-4d1c-4c95-aae8-757b406679a2\">\n",
              "    <div class=\"colab-df-container\">\n",
              "      <div>\n",
              "<style scoped>\n",
              "    .dataframe tbody tr th:only-of-type {\n",
              "        vertical-align: middle;\n",
              "    }\n",
              "\n",
              "    .dataframe tbody tr th {\n",
              "        vertical-align: top;\n",
              "    }\n",
              "\n",
              "    .dataframe thead th {\n",
              "        text-align: right;\n",
              "    }\n",
              "</style>\n",
              "<table border=\"1\" class=\"dataframe\">\n",
              "  <thead>\n",
              "    <tr style=\"text-align: right;\">\n",
              "      <th></th>\n",
              "      <th>0</th>\n",
              "    </tr>\n",
              "  </thead>\n",
              "  <tbody>\n",
              "    <tr>\n",
              "      <th>4893</th>\n",
              "      <td>0.009835</td>\n",
              "    </tr>\n",
              "    <tr>\n",
              "      <th>4894</th>\n",
              "      <td>0.003165</td>\n",
              "    </tr>\n",
              "    <tr>\n",
              "      <th>4895</th>\n",
              "      <td>0.445413</td>\n",
              "    </tr>\n",
              "    <tr>\n",
              "      <th>4896</th>\n",
              "      <td>0.047847</td>\n",
              "    </tr>\n",
              "    <tr>\n",
              "      <th>4897</th>\n",
              "      <td>0.069156</td>\n",
              "    </tr>\n",
              "  </tbody>\n",
              "</table>\n",
              "</div>\n",
              "      <button class=\"colab-df-convert\" onclick=\"convertToInteractive('df-a87361b5-4d1c-4c95-aae8-757b406679a2')\"\n",
              "              title=\"Convert this dataframe to an interactive table.\"\n",
              "              style=\"display:none;\">\n",
              "        \n",
              "  <svg xmlns=\"http://www.w3.org/2000/svg\" height=\"24px\"viewBox=\"0 0 24 24\"\n",
              "       width=\"24px\">\n",
              "    <path d=\"M0 0h24v24H0V0z\" fill=\"none\"/>\n",
              "    <path d=\"M18.56 5.44l.94 2.06.94-2.06 2.06-.94-2.06-.94-.94-2.06-.94 2.06-2.06.94zm-11 1L8.5 8.5l.94-2.06 2.06-.94-2.06-.94L8.5 2.5l-.94 2.06-2.06.94zm10 10l.94 2.06.94-2.06 2.06-.94-2.06-.94-.94-2.06-.94 2.06-2.06.94z\"/><path d=\"M17.41 7.96l-1.37-1.37c-.4-.4-.92-.59-1.43-.59-.52 0-1.04.2-1.43.59L10.3 9.45l-7.72 7.72c-.78.78-.78 2.05 0 2.83L4 21.41c.39.39.9.59 1.41.59.51 0 1.02-.2 1.41-.59l7.78-7.78 2.81-2.81c.8-.78.8-2.07 0-2.86zM5.41 20L4 18.59l7.72-7.72 1.47 1.35L5.41 20z\"/>\n",
              "  </svg>\n",
              "      </button>\n",
              "      \n",
              "  <style>\n",
              "    .colab-df-container {\n",
              "      display:flex;\n",
              "      flex-wrap:wrap;\n",
              "      gap: 12px;\n",
              "    }\n",
              "\n",
              "    .colab-df-convert {\n",
              "      background-color: #E8F0FE;\n",
              "      border: none;\n",
              "      border-radius: 50%;\n",
              "      cursor: pointer;\n",
              "      display: none;\n",
              "      fill: #1967D2;\n",
              "      height: 32px;\n",
              "      padding: 0 0 0 0;\n",
              "      width: 32px;\n",
              "    }\n",
              "\n",
              "    .colab-df-convert:hover {\n",
              "      background-color: #E2EBFA;\n",
              "      box-shadow: 0px 1px 2px rgba(60, 64, 67, 0.3), 0px 1px 3px 1px rgba(60, 64, 67, 0.15);\n",
              "      fill: #174EA6;\n",
              "    }\n",
              "\n",
              "    [theme=dark] .colab-df-convert {\n",
              "      background-color: #3B4455;\n",
              "      fill: #D2E3FC;\n",
              "    }\n",
              "\n",
              "    [theme=dark] .colab-df-convert:hover {\n",
              "      background-color: #434B5C;\n",
              "      box-shadow: 0px 1px 3px 1px rgba(0, 0, 0, 0.15);\n",
              "      filter: drop-shadow(0px 1px 2px rgba(0, 0, 0, 0.3));\n",
              "      fill: #FFFFFF;\n",
              "    }\n",
              "  </style>\n",
              "\n",
              "      <script>\n",
              "        const buttonEl =\n",
              "          document.querySelector('#df-a87361b5-4d1c-4c95-aae8-757b406679a2 button.colab-df-convert');\n",
              "        buttonEl.style.display =\n",
              "          google.colab.kernel.accessAllowed ? 'block' : 'none';\n",
              "\n",
              "        async function convertToInteractive(key) {\n",
              "          const element = document.querySelector('#df-a87361b5-4d1c-4c95-aae8-757b406679a2');\n",
              "          const dataTable =\n",
              "            await google.colab.kernel.invokeFunction('convertToInteractive',\n",
              "                                                     [key], {});\n",
              "          if (!dataTable) return;\n",
              "\n",
              "          const docLinkHtml = 'Like what you see? Visit the ' +\n",
              "            '<a target=\"_blank\" href=https://colab.research.google.com/notebooks/data_table.ipynb>data table notebook</a>'\n",
              "            + ' to learn more about interactive tables.';\n",
              "          element.innerHTML = '';\n",
              "          dataTable['output_type'] = 'display_data';\n",
              "          await google.colab.output.renderOutput(dataTable, element);\n",
              "          const docLink = document.createElement('div');\n",
              "          docLink.innerHTML = docLinkHtml;\n",
              "          element.appendChild(docLink);\n",
              "        }\n",
              "      </script>\n",
              "    </div>\n",
              "  </div>\n",
              "  "
            ],
            "text/plain": [
              "             0\n",
              "4893  0.009835\n",
              "4894  0.003165\n",
              "4895  0.445413\n",
              "4896  0.047847\n",
              "4897  0.069156"
            ]
          },
          "metadata": {},
          "execution_count": 94
        }
      ]
    },
    {
      "cell_type": "code",
      "source": [
        "pred_df.to_csv('predictions_5.csv')"
      ],
      "metadata": {
        "id": "7m99bmjAeLyL"
      },
      "execution_count": 95,
      "outputs": []
    }
  ],
  "metadata": {
    "kernelspec": {
      "display_name": "Python 3",
      "language": "python",
      "name": "python3"
    },
    "language_info": {
      "codemirror_mode": {
        "name": "ipython",
        "version": 3
      },
      "file_extension": ".py",
      "mimetype": "text/x-python",
      "name": "python",
      "nbconvert_exporter": "python",
      "pygments_lexer": "ipython3",
      "version": "3.8.5"
    },
    "colab": {
      "name": "Simple_Model_Train_v3.ipynb",
      "provenance": [],
      "collapsed_sections": []
    },
    "accelerator": "GPU"
  },
  "nbformat": 4,
  "nbformat_minor": 0
}